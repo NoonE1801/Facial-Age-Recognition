{
  "nbformat": 4,
  "nbformat_minor": 0,
  "metadata": {
    "colab": {
      "name": "46151796.ipynb",
      "provenance": [],
      "collapsed_sections": [],
      "toc_visible": true
    },
    "kernelspec": {
      "display_name": "Python 3",
      "language": "python",
      "name": "python3"
    },
    "language_info": {
      "codemirror_mode": {
        "name": "ipython",
        "version": 3
      },
      "file_extension": ".py",
      "mimetype": "text/x-python",
      "name": "python",
      "nbconvert_exporter": "python",
      "pygments_lexer": "ipython3",
      "version": "3.8.8"
    },
    "accelerator": "GPU"
  },
  "cells": [
    {
      "cell_type": "markdown",
      "metadata": {
        "id": "7zO2YA0Ia7RK"
      },
      "source": [
        "##Facial Age Recognition:\n",
        "The main aim of the project is to classify the given image into a particular age category. Google colab GPU is used to train the models. To begin with, the data was trained using conebvntional machine learning models and findings were reported. In addition to that, deep learning models were used to train the dataset. Finally comparision between conventional and deep learning models was reported at the end of the notebook\n",
        "\n",
        "\n"
      ]
    },
    {
      "cell_type": "markdown",
      "metadata": {
        "id": "J1htOIfXafaK"
      },
      "source": [
        "Import and drive mount"
      ]
    },
    {
      "cell_type": "code",
      "metadata": {
        "id": "BkrLFCujHcsv",
        "colab": {
          "base_uri": "https://localhost:8080/"
        },
        "outputId": "4036d143-3492-492c-f598-d88693be0d77"
      },
      "source": [
        "import numpy as np\n",
        "from os.path import join\n",
        "import matplotlib.pyplot as plt\n",
        "import tensorflow as tf\n",
        "from tensorflow.keras import layers, models\n",
        "from google.colab import drive\n",
        "\n",
        "drive.mount('/content/drive/')\n"
      ],
      "execution_count": 2,
      "outputs": [
        {
          "output_type": "stream",
          "name": "stdout",
          "text": [
            "Mounted at /content/drive/\n"
          ]
        }
      ]
    },
    {
      "cell_type": "markdown",
      "metadata": {
        "id": "C4dEFhGzajfE"
      },
      "source": [
        "Variable and label definition"
      ]
    },
    {
      "cell_type": "code",
      "metadata": {
        "id": "uZSNkwihYsyC"
      },
      "source": [
        "image_size = 100\n",
        "dataset_directory = '/content/drive/My Drive/comp8220'  # change to your own directory\n",
        "\n",
        "age_ranges = {\n",
        "    (6,20) : 0, \n",
        "    (35,40) : 1, \n",
        "    (55,98) : 2\n",
        "}\n",
        "\n",
        "def convert_ranges(age):\n",
        "  for key in age_ranges:\n",
        "    if key[0] <= age <= key[1]:\n",
        "      return age_ranges[key]\n",
        "\n",
        "\n",
        "def transform_labels_age(labels_vec):\n",
        "  new_labels_vec = []\n",
        "  for x in labels_vec:\n",
        "    x2 = x.split('-')\n",
        "    new_labels_vec.append(convert_ranges(int(x2[1])))\n",
        "  return np.array(new_labels_vec)\n",
        "\n",
        "def transform_labels(labels_vec):\n",
        "  return transform_labels_age(labels_vec)\n"
      ],
      "execution_count": 3,
      "outputs": []
    },
    {
      "cell_type": "markdown",
      "metadata": {
        "id": "uN91XkFyambT"
      },
      "source": [
        "Data loading and rescaling"
      ]
    },
    {
      "cell_type": "code",
      "metadata": {
        "id": "OPook2sMMSMT",
        "colab": {
          "base_uri": "https://localhost:8080/"
        },
        "outputId": "1e7c90e9-019f-46fe-9c74-d435a08d0e70"
      },
      "source": [
        "images_train = np.load(join(dataset_directory, 'train_images.npy'))\n",
        "labels_train_full = np.load(join(dataset_directory, 'train_labels.npy'))\n",
        "labels_train = transform_labels(labels_train_full)\n",
        "\n",
        "images_val = np.load(join(dataset_directory, 'val_images.npy'))\n",
        "labels_val_full = np.load(join(dataset_directory, 'val_labels.npy'))\n",
        "labels_val = transform_labels(labels_val_full)\n",
        "\n",
        "images_test_public = np.load(join(dataset_directory, 'test_images.npy'))\n",
        "images_test_priv = np.load(join(dataset_directory, 'test_priv_images.npy'))\n",
        "images_train = images_train.reshape([-1, image_size,image_size,3]) / 255.0\n",
        "images_val = images_val.reshape([-1, image_size,image_size,3]) / 255.0\n",
        "images_test_public = images_test_public.reshape([-1, image_size,image_size,3]) / 255.0\n",
        "images_test_priv = images_test_priv.reshape([-1, image_size,image_size,3]) / 255.0\n",
        "\n",
        "print(images_train.shape)\n",
        "print(images_val.shape)\n",
        "print(images_test_public.shape)\n",
        "print(images_test_priv.shape)\n",
        "print(labels_val_full[:9])\n",
        "print(labels_val[:9])\n"
      ],
      "execution_count": 4,
      "outputs": [
        {
          "output_type": "stream",
          "name": "stdout",
          "text": [
            "(13475, 100, 100, 3)\n",
            "(2595, 100, 100, 3)\n",
            "(2374, 100, 100, 3)\n",
            "(2122, 100, 100, 3)\n",
            "['12626-16' '12726-37' '12726-37' '12726-37' '12726-37' '12726-37'\n",
            " '12726-37' '12726-39' '12726-37']\n",
            "[0 1 1 1 1 1 1 1 1]\n"
          ]
        }
      ]
    },
    {
      "cell_type": "markdown",
      "metadata": {
        "id": "bE8HFohwcoEA"
      },
      "source": [
        "Converting the 3 dimensional array to one dimensional array in order to fit conventional machine learning models using reshape function."
      ]
    },
    {
      "cell_type": "code",
      "metadata": {
        "id": "s70OJ6mAUni7"
      },
      "source": [
        "images_train_flatten = images_train.reshape([-1, image_size*image_size*3])\n",
        "images_val_flatten = images_val.reshape([-1, image_size*image_size*3])\n",
        "images_test_public_flatten = images_test_public.reshape([-1, image_size*image_size*3])"
      ],
      "execution_count": 5,
      "outputs": []
    },
    {
      "cell_type": "code",
      "metadata": {
        "id": "7sZSwZ1f5nAM",
        "colab": {
          "base_uri": "https://localhost:8080/"
        },
        "outputId": "0299cb83-88af-449f-d27c-8692c9d23e7d"
      },
      "source": [
        "images_train_flatten.shape"
      ],
      "execution_count": 6,
      "outputs": [
        {
          "output_type": "execute_result",
          "data": {
            "text/plain": [
              "(13475, 30000)"
            ]
          },
          "metadata": {},
          "execution_count": 6
        }
      ]
    },
    {
      "cell_type": "markdown",
      "metadata": {
        "id": "b_IPNmB5gjHv"
      },
      "source": [
        "# Conventional Machine Learning:"
      ]
    },
    {
      "cell_type": "markdown",
      "metadata": {
        "id": "98-VDHO2gPva"
      },
      "source": [
        "Since, the training dataset contains more variables than observations training the model, training the model on such dataset might overfit the model and is computationally expensive.\n",
        "One of solutions to solve the above problem is to use dimensionality reduction techniques for converting higher dimensioanl dataset to lower dimensional dataset by retaining the most relevant properties of the data.\n",
        "In this assignment Principal Component Analysis from scikt learn is used to reduce the dimension by passing the number of components, which is assumed to be 100."
      ]
    },
    {
      "cell_type": "code",
      "metadata": {
        "id": "B0aHRpy50Rwc"
      },
      "source": [
        "from sklearn.decomposition import PCA\n",
        "pca = PCA(n_components = 100)\n",
        "pca_train = pca.fit_transform(images_train_flatten)\n",
        "pca_val = pca.transform(images_val_flatten)\n",
        "pca_test = pca.transform(images_test_public_flatten)"
      ],
      "execution_count": null,
      "outputs": []
    },
    {
      "cell_type": "code",
      "metadata": {
        "id": "bLFv8iibhUeb",
        "colab": {
          "base_uri": "https://localhost:8080/"
        },
        "outputId": "5f946600-40d0-4940-c1c3-40cfc461a4a7"
      },
      "source": [
        "pca_train.shape"
      ],
      "execution_count": null,
      "outputs": [
        {
          "output_type": "execute_result",
          "data": {
            "text/plain": [
              "(13475, 100)"
            ]
          },
          "metadata": {},
          "execution_count": 7
        }
      ]
    },
    {
      "cell_type": "markdown",
      "metadata": {
        "id": "2RJ3Z-5Iggfh"
      },
      "source": [
        "Importing all the necessary libraries required for Machine Learning."
      ]
    },
    {
      "cell_type": "code",
      "metadata": {
        "id": "S2XmeZB30uWm"
      },
      "source": [
        "import pandas as pd\n",
        "import matplotlib.pyplot as plt\n",
        "import seaborn as sns\n",
        "from sklearn.preprocessing import StandardScaler\n",
        "from sklearn.metrics import accuracy_score\n",
        "import xgboost as xgb\n",
        "from sklearn.svm import SVC\n",
        "from sklearn.tree import DecisionTreeClassifier\n",
        "from sklearn.ensemble import GradientBoostingClassifier"
      ],
      "execution_count": null,
      "outputs": []
    },
    {
      "cell_type": "markdown",
      "metadata": {
        "id": "fe6dbma3hdaz"
      },
      "source": [
        "Standard Scaler is used to scale the observations to a uniform scale."
      ]
    },
    {
      "cell_type": "code",
      "metadata": {
        "id": "xQ2QrAq0LGYw"
      },
      "source": [
        "sc = StandardScaler()\n",
        "train = pd.DataFrame(sc.fit_transform(pca_train))\n",
        "val = pd.DataFrame(sc.transform(pca_val))\n",
        "test = pd.DataFrame(sc.transform(pca_test))"
      ],
      "execution_count": null,
      "outputs": []
    },
    {
      "cell_type": "markdown",
      "metadata": {
        "id": "Dxy68sBZh888"
      },
      "source": [
        "Visualizing the number of observations belonging to each class in train dataset."
      ]
    },
    {
      "cell_type": "code",
      "metadata": {
        "id": "2K45ZwUBkxtB",
        "colab": {
          "base_uri": "https://localhost:8080/",
          "height": 337
        },
        "outputId": "176cbf77-5b4f-4574-ed85-be912ae4e15b"
      },
      "source": [
        "sns.countplot(labels_train)"
      ],
      "execution_count": null,
      "outputs": [
        {
          "output_type": "stream",
          "name": "stderr",
          "text": [
            "/usr/local/lib/python3.7/dist-packages/seaborn/_decorators.py:43: FutureWarning: Pass the following variable as a keyword arg: x. From version 0.12, the only valid positional argument will be `data`, and passing other arguments without an explicit keyword will result in an error or misinterpretation.\n",
            "  FutureWarning\n"
          ]
        },
        {
          "output_type": "execute_result",
          "data": {
            "text/plain": [
              "<matplotlib.axes._subplots.AxesSubplot at 0x7f1d8ba37510>"
            ]
          },
          "metadata": {},
          "execution_count": 10
        },
        {
          "output_type": "display_data",
          "data": {
            "image/png": "[encoded data removed]",
            "text/plain": [
              "<Figure size 432x288 with 1 Axes>"
            ]
          },
          "metadata": {
            "needs_background": "light"
          }
        }
      ]
    },
    {
      "cell_type": "markdown",
      "metadata": {
        "id": "RBmuDye1iidZ"
      },
      "source": [
        "Since, the number of observations are not same in each class, data augmentation can be done."
      ]
    },
    {
      "cell_type": "markdown",
      "metadata": {
        "id": "3vaeeKvEi9qK"
      },
      "source": [
        "Fitting the model with Xgboost Classifier:"
      ]
    },
    {
      "cell_type": "code",
      "metadata": {
        "id": "9Cglf1AymEAX",
        "colab": {
          "base_uri": "https://localhost:8080/"
        },
        "outputId": "51cb26cc-1d05-44d6-e792-b7764dc3de4b"
      },
      "source": [
        "xgb_cl = xgb.XGBClassifier()\n",
        "xgb_cl.fit(train, labels_train)"
      ],
      "execution_count": null,
      "outputs": [
        {
          "output_type": "execute_result",
          "data": {
            "text/plain": [
              "XGBClassifier(base_score=0.5, booster='gbtree', colsample_bylevel=1,\n",
              "              colsample_bynode=1, colsample_bytree=1, gamma=0,\n",
              "              learning_rate=0.1, max_delta_step=0, max_depth=3,\n",
              "              min_child_weight=1, missing=None, n_estimators=100, n_jobs=1,\n",
              "              nthread=None, objective='multi:softprob', random_state=0,\n",
              "              reg_alpha=0, reg_lambda=1, scale_pos_weight=1, seed=None,\n",
              "              silent=None, subsample=1, verbosity=1)"
            ]
          },
          "metadata": {},
          "execution_count": 11
        }
      ]
    },
    {
      "cell_type": "code",
      "metadata": {
        "colab": {
          "base_uri": "https://localhost:8080/"
        },
        "id": "XiVFlBCmjlbw",
        "outputId": "9691376d-9534-4588-b681-f1e8ebc7a503"
      },
      "source": [
        "accuracy_score(labels_train, xgb_cl.predict(train))"
      ],
      "execution_count": null,
      "outputs": [
        {
          "output_type": "execute_result",
          "data": {
            "text/plain": [
              "0.5828571428571429"
            ]
          },
          "metadata": {},
          "execution_count": 12
        }
      ]
    },
    {
      "cell_type": "code",
      "metadata": {
        "id": "cN9ZemGkmeMp",
        "colab": {
          "base_uri": "https://localhost:8080/"
        },
        "outputId": "b1b92670-345c-47bd-c3f1-61d62432eb39"
      },
      "source": [
        "accuracy_score(labels_val, xgb_cl.predict(val))"
      ],
      "execution_count": null,
      "outputs": [
        {
          "output_type": "execute_result",
          "data": {
            "text/plain": [
              "0.5811175337186898"
            ]
          },
          "metadata": {},
          "execution_count": 13
        }
      ]
    },
    {
      "cell_type": "markdown",
      "metadata": {
        "id": "vxHz8HJPjTgJ"
      },
      "source": [
        "Predicting the labels for test values."
      ]
    },
    {
      "cell_type": "code",
      "metadata": {
        "id": "NiTonZb7musv"
      },
      "source": [
        "preds = xgb_cl.predict(test)"
      ],
      "execution_count": null,
      "outputs": []
    },
    {
      "cell_type": "code",
      "metadata": {
        "id": "LWFbv4efpwQH",
        "colab": {
          "base_uri": "https://localhost:8080/"
        },
        "outputId": "064bb80c-26be-4e07-be56-fc8a34355488"
      },
      "source": [
        "#xgb_cl = xgb.XGBClassifier(objective = 'multi:softprob', booster='dart', n_jobs = -1)\n",
        "#xgb_cl.fit(train, labels_train)"
      ],
      "execution_count": null,
      "outputs": [
        {
          "output_type": "execute_result",
          "data": {
            "text/plain": [
              "XGBClassifier(base_score=0.5, booster='dart', colsample_bylevel=1,\n",
              "              colsample_bynode=1, colsample_bytree=1, gamma=0,\n",
              "              learning_rate=0.1, max_delta_step=0, max_depth=3,\n",
              "              min_child_weight=1, missing=None, n_estimators=100, n_jobs=-1,\n",
              "              nthread=None, objective='multi:softprob', random_state=0,\n",
              "              reg_alpha=0, reg_lambda=1, scale_pos_weight=1, seed=None,\n",
              "              silent=None, subsample=1, verbosity=1)"
            ]
          },
          "metadata": {},
          "execution_count": 18
        }
      ]
    },
    {
      "cell_type": "code",
      "metadata": {
        "id": "MztR-4EVIaED",
        "colab": {
          "base_uri": "https://localhost:8080/"
        },
        "outputId": "1d7ab64c-5ded-41a6-d693-103de9aaabb0"
      },
      "source": [
        "#accuracy_score(labels_val, xgb_cl.predict(val))\n",
        "#0.5876685934489403"
      ],
      "execution_count": null,
      "outputs": [
        {
          "output_type": "execute_result",
          "data": {
            "text/plain": [
              "0.5876685934489403"
            ]
          },
          "metadata": {},
          "execution_count": 20
        }
      ]
    },
    {
      "cell_type": "code",
      "metadata": {
        "id": "ZbztdCOWIufi",
        "colab": {
          "base_uri": "https://localhost:8080/"
        },
        "outputId": "1ca0ff19-8868-4a78-881d-4cadb154f954"
      },
      "source": [
        "#accuracy_score(labels_train, xgb_cl.predict(train))\n",
        "#0.5821892393320964"
      ],
      "execution_count": null,
      "outputs": [
        {
          "output_type": "execute_result",
          "data": {
            "text/plain": [
              "0.5821892393320964"
            ]
          },
          "metadata": {},
          "execution_count": 21
        }
      ]
    },
    {
      "cell_type": "markdown",
      "metadata": {
        "id": "pyu6BhhhkiMJ"
      },
      "source": [
        "Fitting the model with Support Vector Classifier:"
      ]
    },
    {
      "cell_type": "code",
      "metadata": {
        "id": "mCE0i_AWLpDS",
        "colab": {
          "base_uri": "https://localhost:8080/"
        },
        "outputId": "5728a220-3642-4529-c61f-1008b25c2e1d"
      },
      "source": [
        "#svc = SVC()\n",
        "#svc.fit(train, labels_train)"
      ],
      "execution_count": null,
      "outputs": [
        {
          "output_type": "execute_result",
          "data": {
            "text/plain": [
              "SVC(C=1.0, break_ties=False, cache_size=200, class_weight=None, coef0=0.0,\n",
              "    decision_function_shape='ovr', degree=3, gamma='scale', kernel='rbf',\n",
              "    max_iter=-1, probability=False, random_state=None, shrinking=True,\n",
              "    tol=0.001, verbose=False)"
            ]
          },
          "metadata": {},
          "execution_count": 22
        }
      ]
    },
    {
      "cell_type": "code",
      "metadata": {
        "colab": {
          "base_uri": "https://localhost:8080/"
        },
        "id": "STuxrfeCj_L4",
        "outputId": "a5bdd4b7-bb35-4da4-819c-41210a761706"
      },
      "source": [
        "#accuracy_score(labels_train, svc.predict(train))\n",
        "#0.7902040816326531"
      ],
      "execution_count": null,
      "outputs": [
        {
          "output_type": "execute_result",
          "data": {
            "text/plain": [
              "0.7902040816326531"
            ]
          },
          "metadata": {},
          "execution_count": 24
        }
      ]
    },
    {
      "cell_type": "code",
      "metadata": {
        "id": "k80E2hImMAVT",
        "colab": {
          "base_uri": "https://localhost:8080/"
        },
        "outputId": "9ccc83ea-d2df-496e-9eb4-c3b58cade783"
      },
      "source": [
        "#accuracy_score(labels_val, svc.predict(val))\n",
        "#0.5961464354527939"
      ],
      "execution_count": null,
      "outputs": [
        {
          "output_type": "execute_result",
          "data": {
            "text/plain": [
              "0.5961464354527939"
            ]
          },
          "metadata": {},
          "execution_count": 23
        }
      ]
    },
    {
      "cell_type": "markdown",
      "metadata": {
        "id": "4-lFAmRHkmFg"
      },
      "source": [
        "Fitting the model with Decision Tree Classifier:"
      ]
    },
    {
      "cell_type": "code",
      "metadata": {
        "id": "UU_twRrtMjRy",
        "colab": {
          "base_uri": "https://localhost:8080/"
        },
        "outputId": "966bf178-e02a-4850-9670-b047035aa2be"
      },
      "source": [
        "#dtc = DecisionTreeClassifier()\n",
        "#dtc.fit(train, labels_train)"
      ],
      "execution_count": null,
      "outputs": [
        {
          "output_type": "execute_result",
          "data": {
            "text/plain": [
              "DecisionTreeClassifier(ccp_alpha=0.0, class_weight=None, criterion='gini',\n",
              "                       max_depth=None, max_features=None, max_leaf_nodes=None,\n",
              "                       min_impurity_decrease=0.0, min_impurity_split=None,\n",
              "                       min_samples_leaf=1, min_samples_split=2,\n",
              "                       min_weight_fraction_leaf=0.0, presort='deprecated',\n",
              "                       random_state=None, splitter='best')"
            ]
          },
          "metadata": {},
          "execution_count": 25
        }
      ]
    },
    {
      "cell_type": "code",
      "metadata": {
        "colab": {
          "base_uri": "https://localhost:8080/"
        },
        "id": "Yke6MJovk3Ky",
        "outputId": "806716eb-f87c-41cc-9484-388b8dd23a73"
      },
      "source": [
        "#accuracy_score(labels_train, dtc.predict(train))\n",
        "#0.9914656771799629"
      ],
      "execution_count": null,
      "outputs": [
        {
          "output_type": "execute_result",
          "data": {
            "text/plain": [
              "0.9914656771799629"
            ]
          },
          "metadata": {},
          "execution_count": 26
        }
      ]
    },
    {
      "cell_type": "code",
      "metadata": {
        "id": "Ou7ytQdYNS-b",
        "colab": {
          "base_uri": "https://localhost:8080/"
        },
        "outputId": "0b8c76e2-d2e9-4286-b2c5-0649266c3675"
      },
      "source": [
        "#accuracy_score(labels_val, dtc.predict(val))\n",
        "#0.4273603082851638"
      ],
      "execution_count": null,
      "outputs": [
        {
          "output_type": "execute_result",
          "data": {
            "text/plain": [
              "0.4273603082851638"
            ]
          },
          "metadata": {},
          "execution_count": 27
        }
      ]
    },
    {
      "cell_type": "markdown",
      "metadata": {
        "id": "brswl-MrlFBw"
      },
      "source": [
        "Fitting the model with Gradient Boosting Classifier:"
      ]
    },
    {
      "cell_type": "code",
      "metadata": {
        "id": "4HyeRv3IONHK",
        "colab": {
          "base_uri": "https://localhost:8080/"
        },
        "outputId": "215af4fc-e0c0-4b2d-ea5f-66adeee495a0"
      },
      "source": [
        "#gbc = GradientBoostingClassifier()\n",
        "#gbc.fit(train, labels_train)"
      ],
      "execution_count": null,
      "outputs": [
        {
          "output_type": "execute_result",
          "data": {
            "text/plain": [
              "GradientBoostingClassifier(ccp_alpha=0.0, criterion='friedman_mse', init=None,\n",
              "                           learning_rate=0.1, loss='deviance', max_depth=3,\n",
              "                           max_features=None, max_leaf_nodes=None,\n",
              "                           min_impurity_decrease=0.0, min_impurity_split=None,\n",
              "                           min_samples_leaf=1, min_samples_split=2,\n",
              "                           min_weight_fraction_leaf=0.0, n_estimators=100,\n",
              "                           n_iter_no_change=None, presort='deprecated',\n",
              "                           random_state=None, subsample=1.0, tol=0.0001,\n",
              "                           validation_fraction=0.1, verbose=0,\n",
              "                           warm_start=False)"
            ]
          },
          "metadata": {},
          "execution_count": 28
        }
      ]
    },
    {
      "cell_type": "code",
      "metadata": {
        "colab": {
          "base_uri": "https://localhost:8080/"
        },
        "id": "Km2Gb0-jlLXC",
        "outputId": "0674d465-3e71-4ec6-be2b-9c3cb377e038"
      },
      "source": [
        "#accuracy_score(labels_train, gbc.predict(train))\n",
        "#0.6106122448979592"
      ],
      "execution_count": null,
      "outputs": [
        {
          "output_type": "execute_result",
          "data": {
            "text/plain": [
              "0.6106122448979592"
            ]
          },
          "metadata": {},
          "execution_count": 30
        }
      ]
    },
    {
      "cell_type": "code",
      "metadata": {
        "id": "AogH9BVAOwJy",
        "colab": {
          "base_uri": "https://localhost:8080/"
        },
        "outputId": "a7615c39-e233-4560-d54a-977130254ae1"
      },
      "source": [
        "#accuracy_score(labels_val, gbc.predict(val))\n",
        "#0.5791907514450867"
      ],
      "execution_count": null,
      "outputs": [
        {
          "output_type": "execute_result",
          "data": {
            "text/plain": [
              "0.5791907514450867"
            ]
          },
          "metadata": {},
          "execution_count": 29
        }
      ]
    },
    {
      "cell_type": "markdown",
      "metadata": {
        "id": "qax4f63pl7Aa"
      },
      "source": [
        "Implementation of HOG transformation on the dataset using the source code from [link text](https://kapernikov.com/tutorial-image-classification-with-scikit-learn/)\n"
      ]
    },
    {
      "cell_type": "code",
      "metadata": {
        "id": "2UoUxDirRHTv"
      },
      "source": [
        "from skimage.feature import hog\n",
        "from skimage.io import imread\n",
        "from skimage.transform import rescale\n",
        "from sklearn.base import BaseEstimator, TransformerMixin"
      ],
      "execution_count": null,
      "outputs": []
    },
    {
      "cell_type": "code",
      "metadata": {
        "id": "Rv3TTHq0O8wi"
      },
      "source": [
        "class HogTransformer(BaseEstimator, TransformerMixin):\n",
        "    \"\"\"\n",
        "    Expects an array of 2d arrays (1 channel images)\n",
        "    Calculates hog features for each img\n",
        "    \"\"\"\n",
        " \n",
        "    def __init__(self, y=None, orientations=9,\n",
        "                 pixels_per_cell=(8, 8),\n",
        "                 cells_per_block=(3, 3), block_norm='L2-Hys'):\n",
        "        self.y = y\n",
        "        self.orientations = orientations\n",
        "        self.pixels_per_cell = pixels_per_cell\n",
        "        self.cells_per_block = cells_per_block\n",
        "        self.block_norm = block_norm\n",
        " \n",
        "    def fit(self, X, y=None):\n",
        "        return self\n",
        " \n",
        "    def transform(self, X, y=None):\n",
        " \n",
        "        def local_hog(X):\n",
        "            return hog(X,\n",
        "                       orientations=self.orientations,\n",
        "                       pixels_per_cell=self.pixels_per_cell,\n",
        "                       cells_per_block=self.cells_per_block,\n",
        "                       block_norm=self.block_norm)\n",
        " \n",
        "        try: # parallel\n",
        "            return np.array([local_hog(img) for img in X])\n",
        "        except:\n",
        "            return np.array([local_hog(img) for img in X])"
      ],
      "execution_count": null,
      "outputs": []
    },
    {
      "cell_type": "code",
      "metadata": {
        "id": "QxVBYQZGRq3i"
      },
      "source": [
        "from sklearn.linear_model import SGDClassifier\n",
        "from sklearn.model_selection import cross_val_predict\n",
        "from sklearn.preprocessing import StandardScaler, Normalizer\n",
        "import skimage\n",
        " \n",
        "# create an instance of each transformer\n",
        "hogify = HogTransformer(\n",
        "    pixels_per_cell=(32, 32), \n",
        "    cells_per_block=(3,3), \n",
        "    orientations=9, \n",
        "    block_norm='L2-Hys'\n",
        ")\n",
        "scalify = StandardScaler()\n",
        " \n",
        "# call fit_transform on each transform converting X_train step by step\n",
        "\n",
        "X_train_hog = hogify.fit_transform(images_train)\n",
        "X_train_prepared = scalify.fit_transform(X_train_hog)"
      ],
      "execution_count": null,
      "outputs": []
    },
    {
      "cell_type": "markdown",
      "metadata": {
        "id": "zbxStJWBoFc0"
      },
      "source": [
        "Fitting the model on HOG transformed data using Stocastic Gradient Descent Classifier:"
      ]
    },
    {
      "cell_type": "code",
      "metadata": {
        "id": "Cz-WTFynR-uh"
      },
      "source": [
        "X_train_prepared = pd.DataFrame(X_train_prepared)"
      ],
      "execution_count": null,
      "outputs": []
    },
    {
      "cell_type": "code",
      "metadata": {
        "id": "jaMg6ikX1PUk",
        "colab": {
          "base_uri": "https://localhost:8080/"
        },
        "outputId": "31721a3b-aa9f-4330-9e33-1e1631101a04"
      },
      "source": [
        "sgd_clf = SGDClassifier(random_state=42, max_iter=1000, tol=1e-3)\n",
        "sgd_clf.fit(X_train_prepared, labels_train)\n"
      ],
      "execution_count": null,
      "outputs": [
        {
          "output_type": "execute_result",
          "data": {
            "text/plain": [
              "SGDClassifier(alpha=0.0001, average=False, class_weight=None,\n",
              "              early_stopping=False, epsilon=0.1, eta0=0.0, fit_intercept=True,\n",
              "              l1_ratio=0.15, learning_rate='optimal', loss='hinge',\n",
              "              max_iter=1000, n_iter_no_change=5, n_jobs=None, penalty='l2',\n",
              "              power_t=0.5, random_state=42, shuffle=True, tol=0.001,\n",
              "              validation_fraction=0.1, verbose=0, warm_start=False)"
            ]
          },
          "metadata": {},
          "execution_count": 21
        }
      ]
    },
    {
      "cell_type": "code",
      "metadata": {
        "id": "uue20Fvd1ULL"
      },
      "source": [
        "y_pred = sgd_clf.predict(hogify.transform(images_val))"
      ],
      "execution_count": null,
      "outputs": []
    },
    {
      "cell_type": "code",
      "metadata": {
        "id": "MvWU8phU1i3N",
        "colab": {
          "base_uri": "https://localhost:8080/"
        },
        "outputId": "e778f98e-3632-46f1-d5cf-75e80c6b2a61"
      },
      "source": [
        "accuracy_score(labels_val, y_pred)"
      ],
      "execution_count": null,
      "outputs": [
        {
          "output_type": "execute_result",
          "data": {
            "text/plain": [
              "0.5699421965317919"
            ]
          },
          "metadata": {},
          "execution_count": 23
        }
      ]
    },
    {
      "cell_type": "code",
      "metadata": {
        "id": "4JsXRMYH1oKL",
        "colab": {
          "base_uri": "https://localhost:8080/"
        },
        "outputId": "14a8f574-7b19-4187-9cc1-4c8c847de726"
      },
      "source": [
        "accuracy_score(labels_train,sgd_clf.predict(hogify.transform(images_train)))"
      ],
      "execution_count": null,
      "outputs": [
        {
          "output_type": "execute_result",
          "data": {
            "text/plain": [
              "0.4742857142857143"
            ]
          },
          "metadata": {},
          "execution_count": 24
        }
      ]
    },
    {
      "cell_type": "markdown",
      "metadata": {
        "id": "yUJtsUjOo4_Q"
      },
      "source": [
        "# Findings of Conventional Machine Learning:\n",
        "\n",
        "* The conventioanl model which were used are XGBoost Classifier, Support Vector Machine, Decision Tree Classifier, Gradient Boost  Classifier and Stochastic Gradient Descent with HOG Features\n",
        "\n",
        "* All the models were not submitted to the public competition.\n",
        "\n",
        "* XGBoost Classifier and SGD classifier were submitted to public competition. The accuracy for XGBoost on train was 0.582, on val was 0.587 and test set was 0.486, which shows the model performed decently.\n",
        "\n",
        "* HOG with SGD classifier accuracy on train was 0.4782, validation was 0.5694 and test was 0.4896, which shows using HOG features did not improve the model as it was found that the model got same accuracy without HOG features.\n",
        "\n",
        "* The performance of other model which were not submitted to kaggle are  as follows \n",
        "\n",
        "     * The accuracy for SVC on train was 0.7902 and val was 0.596\n",
        "     * The accuracy for DTC on train was 0.9914 and val was 0.47, which shows model is overfitting on the training data.\n",
        "     * The accuracy for GBC on train was 0.610 and val was 0.579\n",
        "\n",
        "* The best model using conventional machine learning was XGBoost Classifier.\n",
        "\n",
        "* The accuracy of the model can be improved by tuning the hyperparameters using RandomSearchCV or GridSearchCV, which was not done to high amount of data and limited computational resources."
      ]
    },
    {
      "cell_type": "markdown",
      "metadata": {
        "id": "gn0vogvsoxlp"
      },
      "source": [
        "# Deep Learning:"
      ]
    },
    {
      "cell_type": "markdown",
      "metadata": {
        "id": "y-WC4I4n3X5d"
      },
      "source": [
        "Importing all the necessary libraries:"
      ]
    },
    {
      "cell_type": "code",
      "metadata": {
        "id": "rWiCch7nBZpq"
      },
      "source": [
        "import keras\n",
        "from keras.models import Sequential\n",
        "from keras import Model, layers\n",
        "from keras.layers import Dense, Conv2D , MaxPool2D , Flatten , Dropout , InputLayer, BatchNormalization, GlobalMaxPooling2D, GlobalAveragePooling2D, MaxPooling2D,MaxPooling3D\n",
        "from keras.preprocessing.image import ImageDataGenerator\n",
        "from tensorflow.keras.optimizers import Adam, SGD\n",
        "from sklearn.metrics import classification_report,confusion_matrix\n",
        "from tensorflow.keras import layers\n",
        "from keras.utils import np_utils\n",
        "from tensorflow.keras.applications.resnet50 import ResNet50\n",
        "from keras.callbacks import ReduceLROnPlateau"
      ],
      "execution_count": null,
      "outputs": []
    },
    {
      "cell_type": "markdown",
      "metadata": {
        "id": "_EHKnRDV4QbH"
      },
      "source": [
        "Using categorical_crossentropy as loss function, optimiser as adam as it converges faster and  produces high quality results.\n",
        "Accuracy was chosen as metrics.\n",
        "\n",
        "Converting lables from n x 1 array to n x 3 array using np.utils"
      ]
    },
    {
      "cell_type": "code",
      "metadata": {
        "id": "aOrx0PQj4KMB"
      },
      "source": [
        "n_classes = 3\n",
        "Y_train = np_utils.to_categorical(labels_train, n_classes)\n",
        "Y_val = np_utils.to_categorical(labels_val, n_classes)"
      ],
      "execution_count": null,
      "outputs": []
    },
    {
      "cell_type": "markdown",
      "metadata": {
        "id": "CxwxClcDEDPz"
      },
      "source": [
        "Deep Nueral Network:"
      ]
    },
    {
      "cell_type": "code",
      "metadata": {
        "id": "A9f5ooiatBmf",
        "colab": {
          "base_uri": "https://localhost:8080/"
        },
        "outputId": "57152119-20e8-41e1-b536-f5784b182d6e"
      },
      "source": [
        "model = keras.models.Sequential()\n",
        "model.add(layers.Flatten(input_shape = [100,100,3], name = 'input'))\n",
        "model.add(layers.BatchNormalization())\n",
        "model.add(layers.Dense(800, activation = 'relu', kernel_initializer = \"he_normal\"))\n",
        "model.add(layers.Dropout(0.2))\n",
        "model.add(layers.Dense(100, activation = 'relu', kernel_initializer = \"he_normal\"))\n",
        "model.add(layers.Dropout(0.2))\n",
        "model.add(layers.Dense(3, activation = 'softmax', name = 'output'))\n",
        "\n",
        "model.summary()"
      ],
      "execution_count": null,
      "outputs": [
        {
          "output_type": "stream",
          "name": "stdout",
          "text": [
            "Model: \"sequential\"\n",
            "_________________________________________________________________\n",
            "Layer (type)                 Output Shape              Param #   \n",
            "=================================================================\n",
            "input (Flatten)              (None, 30000)             0         \n",
            "_________________________________________________________________\n",
            "batch_normalization (BatchNo (None, 30000)             120000    \n",
            "_________________________________________________________________\n",
            "dense (Dense)                (None, 800)               24000800  \n",
            "_________________________________________________________________\n",
            "dropout (Dropout)            (None, 800)               0         \n",
            "_________________________________________________________________\n",
            "dense_1 (Dense)              (None, 100)               80100     \n",
            "_________________________________________________________________\n",
            "dropout_1 (Dropout)          (None, 100)               0         \n",
            "_________________________________________________________________\n",
            "output (Dense)               (None, 3)                 303       \n",
            "=================================================================\n",
            "Total params: 24,201,203\n",
            "Trainable params: 24,141,203\n",
            "Non-trainable params: 60,000\n",
            "_________________________________________________________________\n"
          ]
        }
      ]
    },
    {
      "cell_type": "markdown",
      "metadata": {
        "id": "Y5zwnbXvIcrQ"
      },
      "source": [
        "* In Sequential model, flatten layer was addedto reduce the 3 D array to 1D array\n",
        "*  Batch Normalization was used to normalize the data\n",
        "* Three dense layers were used with final output layer has 3 nodes.\n",
        "* Two dropout layers were used."
      ]
    },
    {
      "cell_type": "code",
      "metadata": {
        "id": "9wpIHkOXyEgB"
      },
      "source": [
        "model.compile(loss = \"categorical_crossentropy\", optimizer = 'Adam', metrics = ['Accuracy'])"
      ],
      "execution_count": null,
      "outputs": []
    },
    {
      "cell_type": "code",
      "metadata": {
        "id": "_WR-hk5Y5uyG",
        "colab": {
          "base_uri": "https://localhost:8080/"
        },
        "outputId": "a4d99708-80b9-4121-c600-51f74f214743"
      },
      "source": [
        "history = model.fit(\n",
        "    images_train, Y_train,\n",
        "    validation_data = (images_val,Y_val),\n",
        "     epochs=10)"
      ],
      "execution_count": null,
      "outputs": [
        {
          "output_type": "stream",
          "name": "stdout",
          "text": [
            "Epoch 1/10\n",
            "422/422 [==============================] - 11s 19ms/step - loss: 2.8862 - Accuracy: 0.4603 - val_loss: 1.0406 - val_Accuracy: 0.5630\n",
            "Epoch 2/10\n",
            "422/422 [==============================] - 7s 17ms/step - loss: 1.0473 - Accuracy: 0.4905 - val_loss: 0.9885 - val_Accuracy: 0.5769\n",
            "Epoch 3/10\n",
            "422/422 [==============================] - 7s 17ms/step - loss: 1.0423 - Accuracy: 0.4937 - val_loss: 0.9846 - val_Accuracy: 0.5761\n",
            "Epoch 4/10\n",
            "422/422 [==============================] - 7s 17ms/step - loss: 1.0179 - Accuracy: 0.5052 - val_loss: 0.9628 - val_Accuracy: 0.5765\n",
            "Epoch 5/10\n",
            "422/422 [==============================] - 7s 17ms/step - loss: 1.0145 - Accuracy: 0.5086 - val_loss: 0.9555 - val_Accuracy: 0.5796\n",
            "Epoch 6/10\n",
            "422/422 [==============================] - 7s 17ms/step - loss: 1.0098 - Accuracy: 0.5128 - val_loss: 0.9447 - val_Accuracy: 0.5823\n",
            "Epoch 7/10\n",
            "422/422 [==============================] - 7s 17ms/step - loss: 1.0101 - Accuracy: 0.5151 - val_loss: 0.9651 - val_Accuracy: 0.5784\n",
            "Epoch 8/10\n",
            "422/422 [==============================] - 7s 17ms/step - loss: 1.0081 - Accuracy: 0.5178 - val_loss: 0.9600 - val_Accuracy: 0.5888\n",
            "Epoch 9/10\n",
            "422/422 [==============================] - 7s 17ms/step - loss: 1.0006 - Accuracy: 0.5207 - val_loss: 0.9529 - val_Accuracy: 0.5915\n",
            "Epoch 10/10\n",
            "422/422 [==============================] - 7s 17ms/step - loss: 1.0075 - Accuracy: 0.5196 - val_loss: 0.9563 - val_Accuracy: 0.5954\n"
          ]
        }
      ]
    },
    {
      "cell_type": "markdown",
      "metadata": {
        "id": "k1-H7SUZ6E5k"
      },
      "source": [
        "Using argmax to select the class with maximum probability."
      ]
    },
    {
      "cell_type": "code",
      "metadata": {
        "colab": {
          "base_uri": "https://localhost:8080/"
        },
        "id": "rLyDvgj657Zp",
        "outputId": "1162aeec-eae1-4716-8cc0-75409c83259e"
      },
      "source": [
        "pred = model.predict(images_val)\n",
        "pred = np.argmax(pred, axis = -1)\n",
        "pred"
      ],
      "execution_count": null,
      "outputs": [
        {
          "output_type": "execute_result",
          "data": {
            "text/plain": [
              "array([1, 0, 1, ..., 1, 1, 1])"
            ]
          },
          "metadata": {},
          "execution_count": 15
        }
      ]
    },
    {
      "cell_type": "markdown",
      "metadata": {
        "id": "VlAKDIOn6xIQ"
      },
      "source": [
        "Convolutional Nueral Network: \n",
        "CNN was used to predict the classes with  source code from [[2]](https://www.analyticsvidhya.com/blog/2020/02/learn-image-classification-cnn-convolutional-neural-networks-3-datasets/)"
      ]
    },
    {
      "cell_type": "code",
      "metadata": {
        "id": "7qVuHCzw1z35",
        "colab": {
          "base_uri": "https://localhost:8080/"
        },
        "outputId": "86e68c58-e8f5-46ce-a095-6c4de6ea38d7"
      },
      "source": [
        "# build a sequential model\n",
        "model = Sequential()\n",
        "model.add(InputLayer(input_shape=(100, 100, 3)))\n",
        "\n",
        "# 1st conv block\n",
        "model.add(Conv2D(25, (5, 5), activation='relu', strides=(1, 1), padding='same'))\n",
        "model.add(MaxPool2D(pool_size=(2, 2), padding='same'))\n",
        "# 2nd conv block\n",
        "model.add(Conv2D(50, (5, 5), activation='relu', strides=(2, 2), padding='same'))\n",
        "model.add(MaxPool2D(pool_size=(2, 2), padding='same'))\n",
        "model.add(BatchNormalization())\n",
        "# 3rd conv block\n",
        "model.add(Conv2D(70, (3, 3), activation='relu', strides=(2, 2), padding='same'))\n",
        "model.add(MaxPool2D(pool_size=(2, 2), padding='same'))\n",
        "model.add(BatchNormalization())\n",
        "\n",
        "model.add(Conv2D(100, (3, 3), activation='relu', strides=(2, 2), padding='same'))\n",
        "model.add(MaxPool2D(pool_size=(2, 2), padding='valid'))\n",
        "model.add(BatchNormalization())\n",
        "# ANN block\n",
        "model.add(Flatten())\n",
        "model.add(Dense(units=100, activation='relu'))\n",
        "model.add(Dense(units=100, activation='relu'))\n",
        "model.add(Dropout(0.25))\n",
        "# output layer\n",
        "model.add(Dense(units=3, activation='softmax'))\n",
        "\n",
        "# compile model\n",
        "model.compile(loss='categorical_crossentropy', optimizer=\"adam\", metrics=['accuracy'])\n",
        "# fit on data for 30 epochs\n",
        "model.fit(images_train, Y_train,\n",
        "    validation_data = (images_val,Y_val),\n",
        "     epochs=10)"
      ],
      "execution_count": null,
      "outputs": [
        {
          "output_type": "stream",
          "name": "stdout",
          "text": [
            "Epoch 1/10\n",
            "422/422 [==============================] - 38s 23ms/step - loss: 1.0402 - accuracy: 0.4770 - val_loss: 0.9767 - val_accuracy: 0.5522\n",
            "Epoch 2/10\n",
            "422/422 [==============================] - 9s 21ms/step - loss: 0.9890 - accuracy: 0.5118 - val_loss: 0.9618 - val_accuracy: 0.5588\n",
            "Epoch 3/10\n",
            "422/422 [==============================] - 9s 21ms/step - loss: 0.9652 - accuracy: 0.5235 - val_loss: 0.9799 - val_accuracy: 0.5526\n",
            "Epoch 4/10\n",
            "422/422 [==============================] - 9s 22ms/step - loss: 0.9347 - accuracy: 0.5443 - val_loss: 0.9159 - val_accuracy: 0.5911\n",
            "Epoch 5/10\n",
            "422/422 [==============================] - 9s 22ms/step - loss: 0.9062 - accuracy: 0.5573 - val_loss: 0.9329 - val_accuracy: 0.5514\n",
            "Epoch 6/10\n",
            "422/422 [==============================] - 9s 21ms/step - loss: 0.8765 - accuracy: 0.5799 - val_loss: 1.0342 - val_accuracy: 0.5091\n",
            "Epoch 7/10\n",
            "422/422 [==============================] - 9s 21ms/step - loss: 0.8372 - accuracy: 0.6016 - val_loss: 1.1389 - val_accuracy: 0.4543\n",
            "Epoch 8/10\n",
            "422/422 [==============================] - 9s 21ms/step - loss: 0.7944 - accuracy: 0.6262 - val_loss: 0.9090 - val_accuracy: 0.5730\n",
            "Epoch 9/10\n",
            "422/422 [==============================] - 9s 21ms/step - loss: 0.7495 - accuracy: 0.6557 - val_loss: 1.0092 - val_accuracy: 0.4998\n",
            "Epoch 10/10\n",
            "422/422 [==============================] - 9s 21ms/step - loss: 0.6927 - accuracy: 0.6844 - val_loss: 0.9842 - val_accuracy: 0.5499\n"
          ]
        },
        {
          "output_type": "execute_result",
          "data": {
            "text/plain": [
              "<keras.callbacks.History at 0x7fdfa0313c50>"
            ]
          },
          "metadata": {},
          "execution_count": 16
        }
      ]
    },
    {
      "cell_type": "markdown",
      "metadata": {
        "id": "AFZUyyFHJZcP"
      },
      "source": [
        "* Three Conv2D layers was used with relu activation function, with maxpool2D and Batch Normalization after each conv2D layer.\n",
        "* Flatten layer was addedto reduce the 3 D array to 1D array \n",
        "* Three dense layers were used with final output layer has 3 nodes.\n",
        "* One dropout layers was used."
      ]
    },
    {
      "cell_type": "code",
      "metadata": {
        "colab": {
          "base_uri": "https://localhost:8080/"
        },
        "id": "u4Byxhru7sMX",
        "outputId": "116b673c-bd12-4b9a-b23c-5a33f5ae0d69"
      },
      "source": [
        "pred = model.predict(images_val)\n",
        "pred = np.argmax(pred, axis = -1)\n",
        "pred"
      ],
      "execution_count": null,
      "outputs": [
        {
          "output_type": "execute_result",
          "data": {
            "text/plain": [
              "array([0, 1, 1, ..., 1, 0, 0])"
            ]
          },
          "metadata": {},
          "execution_count": 17
        }
      ]
    },
    {
      "cell_type": "markdown",
      "metadata": {
        "id": "9_VNixW_cWpG"
      },
      "source": [
        "Transfer Learning using ResNET-50\n"
      ]
    },
    {
      "cell_type": "code",
      "metadata": {
        "id": "bsAog5pxdknO",
        "colab": {
          "base_uri": "https://localhost:8080/"
        },
        "outputId": "56b005c0-d2b6-4b4b-b207-95f39dfc6a4d"
      },
      "source": [
        "\n",
        "ResNet50_model = ResNet50(weights='imagenet', include_top=False, input_shape=(100,100,3), classes=6)\n",
        "\n",
        "for layers in ResNet50_model.layers:\n",
        "    layers.trainable=True\n",
        "\n",
        "opt = SGD(lr=0.01,momentum=0.7)\n",
        "resnet50_1 = Flatten()(ResNet50_model.output)\n",
        "resnet50_1 = Dense(256,activation='relu')(resnet50_1)\n",
        "resnet50_1 = Dense(3,activation='softmax')(resnet50_1)\n",
        "resnet50_1_final_model = Model(inputs=ResNet50_model.input, outputs=resnet50_1)\n",
        "resnet50_1_final_model.compile(loss = 'categorical_crossentropy', optimizer= opt, metrics=['acc'])\n",
        "\n",
        "number_of_epochs = 10\n",
        "resnet_filepath = 'resnet50_1'+'-saved-model-{epoch:02d}-val_acc-{val_acc:.2f}.hdf5'\n",
        "resnet_1_checkpoint = tf.keras.callbacks.ModelCheckpoint(resnet_filepath, monitor='val_acc', verbose=1, save_best_only=True, mode='max')\n",
        "resnet_1_early_stopping = tf.keras.callbacks.EarlyStopping(monitor='loss', patience=5)\n",
        "reduce_1_lr = ReduceLROnPlateau(monitor='val_loss', factor=0.05, patience=5, min_lr=0.000002)\n",
        "callbacklist = [resnet_1_checkpoint,resnet_1_early_stopping,reduce_1_lr]\n",
        "resnet50_1_history = resnet50_1_final_model.fit(images_train, Y_train,\n",
        "    validation_data = (images_val,Y_val), epochs = number_of_epochs,callbacks=callbacklist,verbose=1)"
      ],
      "execution_count": null,
      "outputs": [
        {
          "output_type": "stream",
          "name": "stderr",
          "text": [
            "/usr/local/lib/python3.7/dist-packages/keras/optimizer_v2/optimizer_v2.py:356: UserWarning: The `lr` argument is deprecated, use `learning_rate` instead.\n",
            "  \"The `lr` argument is deprecated, use `learning_rate` instead.\")\n"
          ]
        },
        {
          "output_type": "stream",
          "name": "stdout",
          "text": [
            "Epoch 1/10\n",
            "422/422 [==============================] - 146s 258ms/step - loss: 0.9567 - acc: 0.5511 - val_loss: 1.0230 - val_acc: 0.5672\n",
            "\n",
            "Epoch 00001: val_acc improved from -inf to 0.56724, saving model to resnet50_1-saved-model-01-val_acc-0.57.hdf5\n"
          ]
        },
        {
          "output_type": "stream",
          "name": "stderr",
          "text": [
            "/usr/local/lib/python3.7/dist-packages/keras/utils/generic_utils.py:497: CustomMaskWarning: Custom mask layers require a config and must override get_config. When loading, the custom mask layer must be passed to the custom_objects argument.\n",
            "  category=CustomMaskWarning)\n"
          ]
        },
        {
          "output_type": "stream",
          "name": "stdout",
          "text": [
            "Epoch 2/10\n",
            "422/422 [==============================] - 105s 250ms/step - loss: 0.7135 - acc: 0.6852 - val_loss: 0.8959 - val_acc: 0.5988\n",
            "\n",
            "Epoch 00002: val_acc improved from 0.56724 to 0.59884, saving model to resnet50_1-saved-model-02-val_acc-0.60.hdf5\n",
            "Epoch 3/10\n",
            "422/422 [==============================] - 105s 249ms/step - loss: 0.5383 - acc: 0.7741 - val_loss: 1.0150 - val_acc: 0.5919\n",
            "\n",
            "Epoch 00003: val_acc did not improve from 0.59884\n",
            "Epoch 4/10\n",
            "422/422 [==============================] - 105s 248ms/step - loss: 0.4101 - acc: 0.8329 - val_loss: 1.0433 - val_acc: 0.5800\n",
            "\n",
            "Epoch 00004: val_acc did not improve from 0.59884\n",
            "Epoch 5/10\n",
            "422/422 [==============================] - 110s 260ms/step - loss: 0.2755 - acc: 0.8973 - val_loss: 1.9882 - val_acc: 0.4859\n",
            "\n",
            "Epoch 00005: val_acc did not improve from 0.59884\n",
            "Epoch 6/10\n",
            "422/422 [==============================] - 105s 248ms/step - loss: 0.2144 - acc: 0.9194 - val_loss: 1.6142 - val_acc: 0.5680\n",
            "\n",
            "Epoch 00006: val_acc did not improve from 0.59884\n",
            "Epoch 7/10\n",
            "422/422 [==============================] - 105s 248ms/step - loss: 0.1763 - acc: 0.9377 - val_loss: 1.1991 - val_acc: 0.5707\n",
            "\n",
            "Epoch 00007: val_acc did not improve from 0.59884\n",
            "Epoch 8/10\n",
            "422/422 [==============================] - 105s 248ms/step - loss: 0.1283 - acc: 0.9562 - val_loss: 1.1402 - val_acc: 0.6802\n",
            "\n",
            "Epoch 00008: val_acc improved from 0.59884 to 0.68015, saving model to resnet50_1-saved-model-08-val_acc-0.68.hdf5\n",
            "Epoch 9/10\n",
            "422/422 [==============================] - 105s 249ms/step - loss: 0.0522 - acc: 0.9829 - val_loss: 1.2225 - val_acc: 0.6894\n",
            "\n",
            "Epoch 00009: val_acc improved from 0.68015 to 0.68940, saving model to resnet50_1-saved-model-09-val_acc-0.69.hdf5\n",
            "Epoch 10/10\n",
            "422/422 [==============================] - 105s 249ms/step - loss: 0.0364 - acc: 0.9881 - val_loss: 1.2949 - val_acc: 0.6848\n",
            "\n",
            "Epoch 00010: val_acc did not improve from 0.68940\n"
          ]
        }
      ]
    },
    {
      "cell_type": "markdown",
      "metadata": {
        "id": "EESq4p2kKyzo"
      },
      "source": [
        "Transfer learning was done using ResNET50 with two dense layers at that end of the ResNET architecture with final layer being the output with 3 nodes. ReduceLROnPlateau was used to decrease the learning rate based on loss. Early stopping was used to stop the model if the model does not improve after five consecutive echos."
      ]
    },
    {
      "cell_type": "code",
      "metadata": {
        "id": "OHwL6RVwksWl"
      },
      "source": [
        "pred = resnet50_1_final_model.predict(images_val)"
      ],
      "execution_count": null,
      "outputs": []
    },
    {
      "cell_type": "code",
      "metadata": {
        "id": "gbZ7DLm4qFgd",
        "colab": {
          "base_uri": "https://localhost:8080/",
          "height": 414
        },
        "outputId": "adb62731-deb6-4914-cf42-3d4b8a53a5fd"
      },
      "source": [
        "pred =  pd.DataFrame(pred)\n"
      ],
      "execution_count": null,
      "outputs": [
        {
          "output_type": "execute_result",
          "data": {
            "text/html": [
              "<div>\n",
              "<style scoped>\n",
              "    .dataframe tbody tr th:only-of-type {\n",
              "        vertical-align: middle;\n",
              "    }\n",
              "\n",
              "    .dataframe tbody tr th {\n",
              "        vertical-align: top;\n",
              "    }\n",
              "\n",
              "    .dataframe thead th {\n",
              "        text-align: right;\n",
              "    }\n",
              "</style>\n",
              "<table border=\"1\" class=\"dataframe\">\n",
              "  <thead>\n",
              "    <tr style=\"text-align: right;\">\n",
              "      <th></th>\n",
              "      <th>0</th>\n",
              "    </tr>\n",
              "  </thead>\n",
              "  <tbody>\n",
              "    <tr>\n",
              "      <th>0</th>\n",
              "      <td>0</td>\n",
              "    </tr>\n",
              "    <tr>\n",
              "      <th>1</th>\n",
              "      <td>1</td>\n",
              "    </tr>\n",
              "    <tr>\n",
              "      <th>2</th>\n",
              "      <td>0</td>\n",
              "    </tr>\n",
              "    <tr>\n",
              "      <th>3</th>\n",
              "      <td>1</td>\n",
              "    </tr>\n",
              "    <tr>\n",
              "      <th>4</th>\n",
              "      <td>0</td>\n",
              "    </tr>\n",
              "    <tr>\n",
              "      <th>...</th>\n",
              "      <td>...</td>\n",
              "    </tr>\n",
              "    <tr>\n",
              "      <th>2590</th>\n",
              "      <td>0</td>\n",
              "    </tr>\n",
              "    <tr>\n",
              "      <th>2591</th>\n",
              "      <td>0</td>\n",
              "    </tr>\n",
              "    <tr>\n",
              "      <th>2592</th>\n",
              "      <td>1</td>\n",
              "    </tr>\n",
              "    <tr>\n",
              "      <th>2593</th>\n",
              "      <td>1</td>\n",
              "    </tr>\n",
              "    <tr>\n",
              "      <th>2594</th>\n",
              "      <td>0</td>\n",
              "    </tr>\n",
              "  </tbody>\n",
              "</table>\n",
              "<p>2595 rows × 1 columns</p>\n",
              "</div>"
            ],
            "text/plain": [
              "      0\n",
              "0     0\n",
              "1     1\n",
              "2     0\n",
              "3     1\n",
              "4     0\n",
              "...  ..\n",
              "2590  0\n",
              "2591  0\n",
              "2592  1\n",
              "2593  1\n",
              "2594  0\n",
              "\n",
              "[2595 rows x 1 columns]"
            ]
          },
          "metadata": {},
          "execution_count": 16
        }
      ]
    },
    {
      "cell_type": "markdown",
      "metadata": {
        "id": "flMVLOEeLkwv"
      },
      "source": [
        "Inorder to improve the ResNET-50 model, adding one more dense layer "
      ]
    },
    {
      "cell_type": "code",
      "metadata": {
        "colab": {
          "base_uri": "https://localhost:8080/"
        },
        "id": "uehK7VhCFoBJ",
        "outputId": "174dae5f-b674-43a4-fa6f-1de714c1eabc"
      },
      "source": [
        "\n",
        "ResNet50_model = ResNet50(weights='imagenet', include_top=False, input_shape=(100,100,3), classes=6)\n",
        "\n",
        "for layers in ResNet50_model.layers:\n",
        "    layers.trainable=True\n",
        "\n",
        "opt = SGD(lr=0.01,momentum=0.7)\n",
        "resnet50_2 = Flatten()(ResNet50_model.output)\n",
        "resnet50_2 = Dense(256,activation='relu')(resnet50_2)\n",
        "resnet50_2 = Dense(128,activation='relu')(resnet50_2)\n",
        "resnet50_2 = Dense(3,activation='softmax')(resnet50_2)\n",
        "resnet50_2_final_model = Model(inputs=ResNet50_model.input, outputs=resnet50_2)\n",
        "resnet50_2_final_model.compile(loss = 'categorical_crossentropy', optimizer= opt, metrics=['acc'])\n",
        "\n",
        "number_of_epochs = 10\n",
        "resnet_filepath = 'resnet50'+'-saved-model-{epoch:02d}-val_acc-{val_acc:.2f}.hdf5'\n",
        "resnet_2_checkpoint = tf.keras.callbacks.ModelCheckpoint(resnet_filepath, monitor='val_acc', verbose=1, save_best_only=True, mode='max')\n",
        "resnet_2_early_stopping = tf.keras.callbacks.EarlyStopping(monitor='loss', patience=5)\n",
        "reduce_2_lr = ReduceLROnPlateau(monitor='val_loss', factor=0.05, patience=5, min_lr=0.000002)\n",
        "callbacklist = [resnet_2_checkpoint,resnet_2_early_stopping,reduce_2_lr]\n",
        "resnet50_2_history = resnet50_2_final_model.fit(images_train, Y_train,\n",
        "    validation_data = (images_val,Y_val), epochs = number_of_epochs,callbacks=callbacklist,verbose=1)"
      ],
      "execution_count": null,
      "outputs": [
        {
          "output_type": "stream",
          "name": "stderr",
          "text": [
            "/usr/local/lib/python3.7/dist-packages/keras/optimizer_v2/optimizer_v2.py:356: UserWarning: The `lr` argument is deprecated, use `learning_rate` instead.\n",
            "  \"The `lr` argument is deprecated, use `learning_rate` instead.\")\n"
          ]
        },
        {
          "output_type": "stream",
          "name": "stdout",
          "text": [
            "Epoch 1/10\n",
            "422/422 [==============================] - 115s 258ms/step - loss: 0.8670 - acc: 0.5958 - val_loss: 1.0850 - val_acc: 0.3268\n",
            "\n",
            "Epoch 00001: val_acc improved from -inf to 0.32678, saving model to resnet50-saved-model-01-val_acc-0.33.hdf5\n"
          ]
        },
        {
          "output_type": "stream",
          "name": "stderr",
          "text": [
            "/usr/local/lib/python3.7/dist-packages/keras/utils/generic_utils.py:497: CustomMaskWarning: Custom mask layers require a config and must override get_config. When loading, the custom mask layer must be passed to the custom_objects argument.\n",
            "  category=CustomMaskWarning)\n"
          ]
        },
        {
          "output_type": "stream",
          "name": "stdout",
          "text": [
            "Epoch 2/10\n",
            "422/422 [==============================] - 105s 249ms/step - loss: 0.6381 - acc: 0.7223 - val_loss: 1.8554 - val_acc: 0.3653\n",
            "\n",
            "Epoch 00002: val_acc improved from 0.32678 to 0.36532, saving model to resnet50-saved-model-02-val_acc-0.37.hdf5\n",
            "Epoch 3/10\n",
            "422/422 [==============================] - 105s 249ms/step - loss: 0.4584 - acc: 0.8112 - val_loss: 0.8636 - val_acc: 0.6586\n",
            "\n",
            "Epoch 00003: val_acc improved from 0.36532 to 0.65857, saving model to resnet50-saved-model-03-val_acc-0.66.hdf5\n",
            "Epoch 4/10\n",
            "422/422 [==============================] - 105s 248ms/step - loss: 0.3366 - acc: 0.8706 - val_loss: 1.1495 - val_acc: 0.6058\n",
            "\n",
            "Epoch 00004: val_acc did not improve from 0.65857\n",
            "Epoch 5/10\n",
            "422/422 [==============================] - 105s 249ms/step - loss: 0.2504 - acc: 0.9093 - val_loss: 3.0620 - val_acc: 0.3118\n",
            "\n",
            "Epoch 00005: val_acc did not improve from 0.65857\n",
            "Epoch 6/10\n",
            "422/422 [==============================] - 105s 249ms/step - loss: 0.2202 - acc: 0.9175 - val_loss: 2.1511 - val_acc: 0.4909\n",
            "\n",
            "Epoch 00006: val_acc did not improve from 0.65857\n",
            "Epoch 7/10\n",
            "422/422 [==============================] - 105s 248ms/step - loss: 0.1432 - acc: 0.9491 - val_loss: 1.3545 - val_acc: 0.6193\n",
            "\n",
            "Epoch 00007: val_acc did not improve from 0.65857\n",
            "Epoch 8/10\n",
            "422/422 [==============================] - 105s 248ms/step - loss: 0.1234 - acc: 0.9549 - val_loss: 1.3606 - val_acc: 0.6116\n",
            "\n",
            "Epoch 00008: val_acc did not improve from 0.65857\n",
            "Epoch 9/10\n",
            "422/422 [==============================] - 105s 249ms/step - loss: 0.0928 - acc: 0.9673 - val_loss: 1.1499 - val_acc: 0.6925\n",
            "\n",
            "Epoch 00009: val_acc improved from 0.65857 to 0.69249, saving model to resnet50-saved-model-09-val_acc-0.69.hdf5\n",
            "Epoch 10/10\n",
            "422/422 [==============================] - 105s 248ms/step - loss: 0.0345 - acc: 0.9873 - val_loss: 1.2530 - val_acc: 0.6967\n",
            "\n",
            "Epoch 00010: val_acc improved from 0.69249 to 0.69672, saving model to resnet50-saved-model-10-val_acc-0.70.hdf5\n"
          ]
        }
      ]
    },
    {
      "cell_type": "code",
      "metadata": {
        "id": "k5G0mqpGemyI"
      },
      "source": [
        "pred1 = resnet50_x_final_model.predict(images_test_public)\n",
        "pred1 = np.argmax(pred1, axis = 1)\n",
        "pred1 =  pd.DataFrame(pred1)"
      ],
      "execution_count": null,
      "outputs": []
    },
    {
      "cell_type": "code",
      "metadata": {
        "id": "nWIO1yeBqU9t"
      },
      "source": [
        "accuracy_score(labels_val, pred)"
      ],
      "execution_count": null,
      "outputs": []
    },
    {
      "cell_type": "code",
      "metadata": {
        "id": "vOrMF3ppqbDm"
      },
      "source": [
        "pred = resnet50_x_final_model.predict(images_test_priv)\n",
        "pred = np.argmax(pred, axis = 1)\n",
        "pred =  pd.DataFrame(pred)"
      ],
      "execution_count": null,
      "outputs": []
    },
    {
      "cell_type": "markdown",
      "metadata": {
        "id": "J1SVpZWA33gI"
      },
      "source": [
        "# Findings of Deep Learning:\n",
        "* Deep Neural Network, Convolutional Neural Network, Transfer Learning with 2 and  dense Layers are used.\n",
        "* Deep Neural Network got an accuracy of 0.5196 on train, 0.5954 on val and 0.4680 on public test data\n",
        "* Convolutional Neural Network got an accuracy of 0.6844 on train and 0.5499. This model is expected to perform better than the previous model, but the accuracy on val set was less than that of deep learning model. One of the reasons might be less  number of layers to fit the number of variables. The accuracy of this model can be improved by tuning the parameters with a builtin keras library called keras tuner.\n",
        "* Transfer Learning using ResNET-50 (ResNET_50_1) with two dense layers has a significant improvement in performance with accuracy of 0.9398 on train, 0.6767 on val and 0.68534 on public test set.\n",
        "* In order to get better accuracy, another dense layer (ResNET_50_2) was added to the previous model, which increased the accuracy to 0.9744 on train, 0.6713 on val and 0.708 on public test set.\n",
        "* The performance of ResNET model can be improved by adding more dense layers at the end of the network.\n"
      ]
    },
    {
      "cell_type": "markdown",
      "metadata": {
        "id": "Dy5vSFYDCCRp"
      },
      "source": [
        "# Performance of private test set: \n",
        "\n",
        "Deep Learning models ResNET_50_1 and ResNET_50_2 were submitted to private competition of which ResNET_50_1 got an accuracy of 0.718 and ResNET_50_2 got an accuracy of 0.72148 with 11 position on Leaderboard.\n",
        "\n",
        "# Comparison of accuracies on Conventional and Deep Learning models:\n",
        "Traditionally deep learning models perform better than conventional machine learning models. But simple DNN performance was similar to that of the conventional machine learning model, which might be because of less Dense Layers in the model\n",
        "\n",
        "# Comparison of accuracies on Public test and Private test:\n",
        "The performance of ResNET_50_1 and ResNET_50_2 on public and Private test set were almost similar. There aren't any considerable differences in performance on public and private datasets.\n"
      ]
    }
  ]
}